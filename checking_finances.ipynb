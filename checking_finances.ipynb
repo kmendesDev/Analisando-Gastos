{
  "cells": [
    {
      "cell_type": "markdown",
      "metadata": {
        "id": "c2rsPw5loRx1"
      },
      "source": [
        "## importação de bibliotecas"
      ]
    },
    {
      "cell_type": "code",
      "execution_count": 35,
      "metadata": {
        "id": "bjtdMUwWoRx8"
      },
      "outputs": [],
      "source": [
        "import pandas as pd\n",
        "import seaborn as sns # Para visualização de dados estatísticos\n",
        "import matplotlib.pyplot as plt # Para criação de gráficos\n",
        "import openpyxl #Para salvar como formato excel"
      ]
    },
    {
      "cell_type": "markdown",
      "metadata": {
        "id": "qQ2y4qePoRx-"
      },
      "source": [
        "## Importação do dataframe\n",
        "Análise inicial"
      ]
    },
    {
      "cell_type": "code",
      "execution_count": 2,
      "metadata": {
        "id": "1JSpEQIAoRx_"
      },
      "outputs": [],
      "source": [
        "data = pd.read_csv(\"D:\\Pablinho & Nanda\\Documents\\Programação/finanças\\data\\Gastos_Set.csv\")"
      ]
    },
    {
      "cell_type": "code",
      "execution_count": 3,
      "metadata": {
        "colab": {
          "base_uri": "https://localhost:8080/",
          "height": 206
        },
        "id": "aRc7b5xuoRyA",
        "outputId": "e37b7438-7731-416e-88a6-06b00f5f132e"
      },
      "outputs": [
        {
          "data": {
            "text/html": [
              "<div>\n",
              "<style scoped>\n",
              "    .dataframe tbody tr th:only-of-type {\n",
              "        vertical-align: middle;\n",
              "    }\n",
              "\n",
              "    .dataframe tbody tr th {\n",
              "        vertical-align: top;\n",
              "    }\n",
              "\n",
              "    .dataframe thead th {\n",
              "        text-align: right;\n",
              "    }\n",
              "</style>\n",
              "<table border=\"1\" class=\"dataframe\">\n",
              "  <thead>\n",
              "    <tr style=\"text-align: right;\">\n",
              "      <th></th>\n",
              "      <th>DATA</th>\n",
              "      <th>DESCRIÇÃO</th>\n",
              "      <th>CATEGORIA</th>\n",
              "      <th>FORMA DE PAGAMENTO</th>\n",
              "      <th>PARCELAS RESTANTES</th>\n",
              "      <th>VALOR</th>\n",
              "    </tr>\n",
              "  </thead>\n",
              "  <tbody>\n",
              "    <tr>\n",
              "      <th>0</th>\n",
              "      <td>NaN</td>\n",
              "      <td>Treino</td>\n",
              "      <td>PESSOAL</td>\n",
              "      <td>CARTÃO X</td>\n",
              "      <td>12</td>\n",
              "      <td>152,91</td>\n",
              "    </tr>\n",
              "    <tr>\n",
              "      <th>1</th>\n",
              "      <td>26/08</td>\n",
              "      <td>Netflix</td>\n",
              "      <td>STREAMING</td>\n",
              "      <td>CARTÃO Y</td>\n",
              "      <td>12</td>\n",
              "      <td>55,9</td>\n",
              "    </tr>\n",
              "    <tr>\n",
              "      <th>2</th>\n",
              "      <td>NaN</td>\n",
              "      <td>HBO</td>\n",
              "      <td>STREAMING</td>\n",
              "      <td>CARTÃO Y</td>\n",
              "      <td>12</td>\n",
              "      <td>24,43</td>\n",
              "    </tr>\n",
              "    <tr>\n",
              "      <th>3</th>\n",
              "      <td>NaN</td>\n",
              "      <td>ML</td>\n",
              "      <td>STREAMING</td>\n",
              "      <td>CARTÃO Y</td>\n",
              "      <td>12</td>\n",
              "      <td>9</td>\n",
              "    </tr>\n",
              "    <tr>\n",
              "      <th>4</th>\n",
              "      <td>NaN</td>\n",
              "      <td>Treino</td>\n",
              "      <td>PESSOAL</td>\n",
              "      <td>CARTÃO Y</td>\n",
              "      <td>12</td>\n",
              "      <td>0</td>\n",
              "    </tr>\n",
              "  </tbody>\n",
              "</table>\n",
              "</div>"
            ],
            "text/plain": [
              "    DATA DESCRIÇÃO  CATEGORIA FORMA DE PAGAMENTO  PARCELAS RESTANTES   VALOR\n",
              "0    NaN    Treino    PESSOAL           CARTÃO X                  12  152,91\n",
              "1  26/08   Netflix  STREAMING           CARTÃO Y                  12    55,9\n",
              "2    NaN       HBO  STREAMING           CARTÃO Y                  12   24,43\n",
              "3    NaN        ML  STREAMING           CARTÃO Y                  12       9\n",
              "4    NaN    Treino    PESSOAL           CARTÃO Y                  12       0"
            ]
          },
          "execution_count": 3,
          "metadata": {},
          "output_type": "execute_result"
        }
      ],
      "source": [
        "data.head()"
      ]
    },
    {
      "cell_type": "code",
      "execution_count": 4,
      "metadata": {
        "colab": {
          "base_uri": "https://localhost:8080/",
          "height": 206
        },
        "id": "tuh9gymioRyB",
        "outputId": "af840f57-e781-4f19-deb9-3a851c35f1b4"
      },
      "outputs": [
        {
          "data": {
            "text/html": [
              "<div>\n",
              "<style scoped>\n",
              "    .dataframe tbody tr th:only-of-type {\n",
              "        vertical-align: middle;\n",
              "    }\n",
              "\n",
              "    .dataframe tbody tr th {\n",
              "        vertical-align: top;\n",
              "    }\n",
              "\n",
              "    .dataframe thead th {\n",
              "        text-align: right;\n",
              "    }\n",
              "</style>\n",
              "<table border=\"1\" class=\"dataframe\">\n",
              "  <thead>\n",
              "    <tr style=\"text-align: right;\">\n",
              "      <th></th>\n",
              "      <th>DATA</th>\n",
              "      <th>DESCRIÇÃO</th>\n",
              "      <th>CATEGORIA</th>\n",
              "      <th>FORMA DE PAGAMENTO</th>\n",
              "      <th>PARCELAS RESTANTES</th>\n",
              "      <th>VALOR</th>\n",
              "    </tr>\n",
              "  </thead>\n",
              "  <tbody>\n",
              "    <tr>\n",
              "      <th>111</th>\n",
              "      <td>NaN</td>\n",
              "      <td>NaN</td>\n",
              "      <td>-</td>\n",
              "      <td>-</td>\n",
              "      <td>1</td>\n",
              "      <td>NaN</td>\n",
              "    </tr>\n",
              "    <tr>\n",
              "      <th>112</th>\n",
              "      <td>NaN</td>\n",
              "      <td>NaN</td>\n",
              "      <td>-</td>\n",
              "      <td>-</td>\n",
              "      <td>1</td>\n",
              "      <td>NaN</td>\n",
              "    </tr>\n",
              "    <tr>\n",
              "      <th>113</th>\n",
              "      <td>NaN</td>\n",
              "      <td>NaN</td>\n",
              "      <td>-</td>\n",
              "      <td>-</td>\n",
              "      <td>1</td>\n",
              "      <td>NaN</td>\n",
              "    </tr>\n",
              "    <tr>\n",
              "      <th>114</th>\n",
              "      <td>NaN</td>\n",
              "      <td>NaN</td>\n",
              "      <td>-</td>\n",
              "      <td>-</td>\n",
              "      <td>1</td>\n",
              "      <td>NaN</td>\n",
              "    </tr>\n",
              "    <tr>\n",
              "      <th>115</th>\n",
              "      <td>NaN</td>\n",
              "      <td>NaN</td>\n",
              "      <td>-</td>\n",
              "      <td>-</td>\n",
              "      <td>1</td>\n",
              "      <td>NaN</td>\n",
              "    </tr>\n",
              "  </tbody>\n",
              "</table>\n",
              "</div>"
            ],
            "text/plain": [
              "    DATA DESCRIÇÃO CATEGORIA FORMA DE PAGAMENTO  PARCELAS RESTANTES VALOR\n",
              "111  NaN       NaN         -                  -                   1   NaN\n",
              "112  NaN       NaN         -                  -                   1   NaN\n",
              "113  NaN       NaN         -                  -                   1   NaN\n",
              "114  NaN       NaN         -                  -                   1   NaN\n",
              "115  NaN       NaN         -                  -                   1   NaN"
            ]
          },
          "execution_count": 4,
          "metadata": {},
          "output_type": "execute_result"
        }
      ],
      "source": [
        "data.tail()\n",
        "# verifica-se muitos valores nulos nas linhas finais."
      ]
    },
    {
      "cell_type": "code",
      "execution_count": 5,
      "metadata": {
        "colab": {
          "base_uri": "https://localhost:8080/"
        },
        "id": "VRWcgY3qoRyC",
        "outputId": "81d4bbe0-e740-4f85-f68f-090ec4747ae7"
      },
      "outputs": [
        {
          "data": {
            "text/plain": [
              "(116, 6)"
            ]
          },
          "execution_count": 5,
          "metadata": {},
          "output_type": "execute_result"
        }
      ],
      "source": [
        "data.shape\n",
        "# 116 linhas e 6 colunas"
      ]
    },
    {
      "cell_type": "code",
      "execution_count": 6,
      "metadata": {
        "colab": {
          "base_uri": "https://localhost:8080/"
        },
        "id": "Zadakf7soRyE",
        "outputId": "61427159-f26b-4abb-95db-c72bddfb5b4d"
      },
      "outputs": [
        {
          "name": "stdout",
          "output_type": "stream",
          "text": [
            "<class 'pandas.core.frame.DataFrame'>\n",
            "RangeIndex: 116 entries, 0 to 115\n",
            "Data columns (total 6 columns):\n",
            " #   Column              Non-Null Count  Dtype \n",
            "---  ------              --------------  ----- \n",
            " 0   DATA                1 non-null      object\n",
            " 1   DESCRIÇÃO           69 non-null     object\n",
            " 2   CATEGORIA           116 non-null    object\n",
            " 3   FORMA DE PAGAMENTO  116 non-null    object\n",
            " 4   PARCELAS RESTANTES  116 non-null    int64 \n",
            " 5   VALOR               69 non-null     object\n",
            "dtypes: int64(1), object(5)\n",
            "memory usage: 5.6+ KB\n"
          ]
        }
      ],
      "source": [
        "data.info()\n",
        "# A quantidade de itens não nulos nas colunas é muito discrepante quando são comparadas entre si."
      ]
    },
    {
      "cell_type": "markdown",
      "metadata": {
        "id": "AX8DOummoRyF"
      },
      "source": [
        "## Análise por coluna:"
      ]
    },
    {
      "cell_type": "code",
      "execution_count": 7,
      "metadata": {
        "colab": {
          "base_uri": "https://localhost:8080/",
          "height": 53
        },
        "id": "6TUPJ1ELoRyG",
        "outputId": "46d4368f-ba6e-41dd-be35-1c07a8e15e67"
      },
      "outputs": [
        {
          "data": {
            "text/html": [
              "<div>\n",
              "<style scoped>\n",
              "    .dataframe tbody tr th:only-of-type {\n",
              "        vertical-align: middle;\n",
              "    }\n",
              "\n",
              "    .dataframe tbody tr th {\n",
              "        vertical-align: top;\n",
              "    }\n",
              "\n",
              "    .dataframe thead th {\n",
              "        text-align: right;\n",
              "    }\n",
              "</style>\n",
              "<table border=\"1\" class=\"dataframe\">\n",
              "  <thead>\n",
              "    <tr style=\"text-align: right;\">\n",
              "      <th></th>\n",
              "      <th>DATA</th>\n",
              "      <th>DESCRIÇÃO</th>\n",
              "      <th>CATEGORIA</th>\n",
              "      <th>FORMA DE PAGAMENTO</th>\n",
              "      <th>PARCELAS RESTANTES</th>\n",
              "      <th>VALOR</th>\n",
              "    </tr>\n",
              "  </thead>\n",
              "  <tbody>\n",
              "  </tbody>\n",
              "</table>\n",
              "</div>"
            ],
            "text/plain": [
              "Empty DataFrame\n",
              "Columns: [DATA, DESCRIÇÃO, CATEGORIA, FORMA DE PAGAMENTO, PARCELAS RESTANTES, VALOR]\n",
              "Index: []"
            ]
          },
          "execution_count": 7,
          "metadata": {},
          "output_type": "execute_result"
        }
      ],
      "source": [
        "data.head(0)"
      ]
    },
    {
      "cell_type": "code",
      "execution_count": 8,
      "metadata": {
        "colab": {
          "base_uri": "https://localhost:8080/"
        },
        "id": "GOfVwsU_oRyH",
        "outputId": "a9240be5-9573-43d2-a3e5-1f0817cf2f7e"
      },
      "outputs": [
        {
          "data": {
            "text/plain": [
              "DATA\n",
              "26/08    1\n",
              "Name: count, dtype: int64"
            ]
          },
          "execution_count": 8,
          "metadata": {},
          "output_type": "execute_result"
        }
      ],
      "source": [
        "data['DATA'].value_counts()"
      ]
    },
    {
      "cell_type": "code",
      "execution_count": 9,
      "metadata": {
        "colab": {
          "base_uri": "https://localhost:8080/"
        },
        "id": "yyTchI-ToRyI",
        "outputId": "817eb150-517f-46c9-ff81-6f20754f2f53"
      },
      "outputs": [
        {
          "data": {
            "text/plain": [
              "count         1\n",
              "unique        1\n",
              "top       26/08\n",
              "freq          1\n",
              "Name: DATA, dtype: object"
            ]
          },
          "execution_count": 9,
          "metadata": {},
          "output_type": "execute_result"
        }
      ],
      "source": [
        "data['DATA'].describe()\n",
        "# Verifica-se apenas um resultado na coluna Data, logo ela está incompleta e poderá ser desconsiderada."
      ]
    },
    {
      "cell_type": "code",
      "execution_count": 10,
      "metadata": {
        "colab": {
          "base_uri": "https://localhost:8080/"
        },
        "id": "7FZyL2ozoRyJ",
        "outputId": "5914068c-77ba-4fb6-a4d6-a8aed61eeb55"
      },
      "outputs": [
        {
          "data": {
            "text/plain": [
              "count         69\n",
              "unique        61\n",
              "top       Renner\n",
              "freq           3\n",
              "Name: DESCRIÇÃO, dtype: object"
            ]
          },
          "execution_count": 10,
          "metadata": {},
          "output_type": "execute_result"
        }
      ],
      "source": [
        "data['DESCRIÇÃO'].describe()\n",
        "# Verifica-se 69 valores na coluna DESCRIÇÃO com 61 únicos."
      ]
    },
    {
      "cell_type": "code",
      "execution_count": 11,
      "metadata": {
        "colab": {
          "base_uri": "https://localhost:8080/"
        },
        "id": "Xpj0U_MzoRyJ",
        "outputId": "7cf6fc3e-5516-413e-a0a3-eed7b690e54c"
      },
      "outputs": [
        {
          "data": {
            "text/plain": [
              "count     116\n",
              "unique     14\n",
              "top         -\n",
              "freq       47\n",
              "Name: CATEGORIA, dtype: object"
            ]
          },
          "execution_count": 11,
          "metadata": {},
          "output_type": "execute_result"
        }
      ],
      "source": [
        "data['CATEGORIA'].describe()\n",
        "# Verifica-se 116 valores, com 14 únicos e com o símbolo \"-\" aparecendo 47 vezes"
      ]
    },
    {
      "cell_type": "code",
      "execution_count": 12,
      "metadata": {
        "colab": {
          "base_uri": "https://localhost:8080/"
        },
        "id": "hQkXXbaMoRyK",
        "outputId": "df69349a-caf0-4e84-9e8a-71edba9c209f"
      },
      "outputs": [
        {
          "data": {
            "text/plain": [
              "CATEGORIA\n",
              "-               47\n",
              "LAZER           18\n",
              "PESSOAL         11\n",
              "LANCHES          9\n",
              "MERCADO          7\n",
              "COMPRAS          6\n",
              "STREAMING        4\n",
              "COMBUSTÍVEL      4\n",
              "CASA             3\n",
              "MILHAS           2\n",
              "PADARIA          2\n",
              "BIKE             1\n",
              "CACHORRO         1\n",
              "BELEZA/SAÚDE     1\n",
              "Name: count, dtype: int64"
            ]
          },
          "execution_count": 12,
          "metadata": {},
          "output_type": "execute_result"
        }
      ],
      "source": [
        "#Vamos verificar todos os valores da coluna CATEGORIA:\n",
        "data['CATEGORIA'].value_counts()"
      ]
    },
    {
      "cell_type": "code",
      "execution_count": 13,
      "metadata": {
        "colab": {
          "base_uri": "https://localhost:8080/"
        },
        "id": "UrIo3smJoRyL",
        "outputId": "7c728c64-e303-46cd-a656-e739320bc436"
      },
      "outputs": [
        {
          "data": {
            "text/plain": [
              "count     116\n",
              "unique      5\n",
              "top         -\n",
              "freq       47\n",
              "Name: FORMA DE PAGAMENTO, dtype: object"
            ]
          },
          "execution_count": 13,
          "metadata": {},
          "output_type": "execute_result"
        }
      ],
      "source": [
        "data['FORMA DE PAGAMENTO'].describe()\n",
        "# Verifica-se 116 valores, com 5 únicos e com o símbolo \"-\" aparecendo 47 vezes"
      ]
    },
    {
      "cell_type": "code",
      "execution_count": 14,
      "metadata": {
        "colab": {
          "base_uri": "https://localhost:8080/"
        },
        "id": "e-hQDC4ooRyM",
        "outputId": "143d2d07-fb31-442d-85aa-1582a0e0cf0a"
      },
      "outputs": [
        {
          "data": {
            "text/plain": [
              "FORMA DE PAGAMENTO\n",
              "-           47\n",
              "CARTÃO X    33\n",
              "CARTÃO Y    32\n",
              "CARTÃO Z     3\n",
              "CARTÃO W     1\n",
              "Name: count, dtype: int64"
            ]
          },
          "execution_count": 14,
          "metadata": {},
          "output_type": "execute_result"
        }
      ],
      "source": [
        "# Vamos verificar todos os valores da coluna\n",
        "data['FORMA DE PAGAMENTO'].value_counts()"
      ]
    },
    {
      "cell_type": "code",
      "execution_count": 15,
      "metadata": {
        "colab": {
          "base_uri": "https://localhost:8080/"
        },
        "id": "A_JBfJQKoRyN",
        "outputId": "01a66df8-6b67-40e0-84df-d53975c90108"
      },
      "outputs": [
        {
          "data": {
            "text/plain": [
              "count    116.000000\n",
              "mean       1.887931\n",
              "std        2.620228\n",
              "min        1.000000\n",
              "25%        1.000000\n",
              "50%        1.000000\n",
              "75%        1.000000\n",
              "max       12.000000\n",
              "Name: PARCELAS RESTANTES, dtype: float64"
            ]
          },
          "execution_count": 15,
          "metadata": {},
          "output_type": "execute_result"
        }
      ],
      "source": [
        "data['PARCELAS RESTANTES'].describe()\n",
        "# Verifica-se 116 valores"
      ]
    },
    {
      "cell_type": "code",
      "execution_count": 16,
      "metadata": {
        "colab": {
          "base_uri": "https://localhost:8080/"
        },
        "id": "wJpsrnNtoRyN",
        "outputId": "b782b51f-fd6a-4924-bb24-e93861f8bc84"
      },
      "outputs": [
        {
          "data": {
            "text/plain": [
              "PARCELAS RESTANTES\n",
              "1     95\n",
              "2      8\n",
              "12     6\n",
              "8      2\n",
              "5      2\n",
              "3      2\n",
              "4      1\n",
              "Name: count, dtype: int64"
            ]
          },
          "execution_count": 16,
          "metadata": {},
          "output_type": "execute_result"
        }
      ],
      "source": [
        "data['PARCELAS RESTANTES'].value_counts()\n",
        "# Temos muitos valores \"1\""
      ]
    },
    {
      "cell_type": "code",
      "execution_count": 17,
      "metadata": {
        "colab": {
          "base_uri": "https://localhost:8080/"
        },
        "id": "LQMvH1h9oRyO",
        "outputId": "e58867a0-538f-4e44-ab5c-1ca8e044ff0a"
      },
      "outputs": [
        {
          "data": {
            "text/plain": [
              "count     69\n",
              "unique    67\n",
              "top       55\n",
              "freq       2\n",
              "Name: VALOR, dtype: object"
            ]
          },
          "execution_count": 17,
          "metadata": {},
          "output_type": "execute_result"
        }
      ],
      "source": [
        "data['VALOR'].describe()\n",
        "# 69 valores e 67 únicos"
      ]
    },
    {
      "cell_type": "code",
      "execution_count": 18,
      "metadata": {
        "colab": {
          "base_uri": "https://localhost:8080/"
        },
        "id": "YdTmhAJotgFj",
        "outputId": "b27b9800-f117-468b-8e80-925ec73f30e6"
      },
      "outputs": [
        {
          "data": {
            "text/plain": [
              "0      152.91\n",
              "1       55.90\n",
              "2       24.43\n",
              "3        9.00\n",
              "4        0.00\n",
              "        ...  \n",
              "111       NaN\n",
              "112       NaN\n",
              "113       NaN\n",
              "114       NaN\n",
              "115       NaN\n",
              "Name: VALOR, Length: 116, dtype: float64"
            ]
          },
          "execution_count": 18,
          "metadata": {},
          "output_type": "execute_result"
        }
      ],
      "source": [
        "data['VALOR'] = data['VALOR'].str.replace(',', '.').astype(float)\n",
        "data['VALOR'] = pd.to_numeric(data['VALOR'])\n",
        "data['VALOR']"
      ]
    },
    {
      "cell_type": "markdown",
      "metadata": {
        "id": "hFjMlbvYoRyO"
      },
      "source": [
        "## Limpeza dos dados"
      ]
    },
    {
      "cell_type": "code",
      "execution_count": 19,
      "metadata": {
        "colab": {
          "base_uri": "https://localhost:8080/"
        },
        "id": "7PVQmrM_oRyO",
        "outputId": "45a76a8e-7b80-4de5-cc66-474f1a8b36ab"
      },
      "outputs": [
        {
          "data": {
            "text/plain": [
              "DATA                  115\n",
              "DESCRIÇÃO              47\n",
              "CATEGORIA               0\n",
              "FORMA DE PAGAMENTO      0\n",
              "PARCELAS RESTANTES      0\n",
              "VALOR                  47\n",
              "dtype: int64"
            ]
          },
          "execution_count": 19,
          "metadata": {},
          "output_type": "execute_result"
        }
      ],
      "source": [
        "data.isnull().sum()\n",
        "# Verifica-se que além de muitos valores nulos, tamos muitas colunas desorganizadas e desnecessárias"
      ]
    },
    {
      "cell_type": "code",
      "execution_count": 20,
      "metadata": {
        "colab": {
          "base_uri": "https://localhost:8080/"
        },
        "id": "M2pejBLYoRyP",
        "outputId": "c8b86d8a-0824-4ca9-d59d-44c4f52912eb"
      },
      "outputs": [
        {
          "data": {
            "text/plain": [
              "69"
            ]
          },
          "execution_count": 20,
          "metadata": {},
          "output_type": "execute_result"
        }
      ],
      "source": [
        "# Buscando o primeiro nulo que aparece para retirar as linhas abaixo:\n",
        "indice_primeiro_nulo = data['DESCRIÇÃO'].index[data['DESCRIÇÃO'].isnull()].tolist()[0]\n",
        "indice_primeiro_nulo"
      ]
    },
    {
      "cell_type": "code",
      "execution_count": 21,
      "metadata": {
        "colab": {
          "base_uri": "https://localhost:8080/"
        },
        "id": "nXKIYttGoRyP",
        "outputId": "df5f90de-0cab-47c1-a3b3-e2059c784757"
      },
      "outputs": [
        {
          "data": {
            "text/plain": [
              "69"
            ]
          },
          "execution_count": 21,
          "metadata": {},
          "output_type": "execute_result"
        }
      ],
      "source": [
        "# Buscando o primeiro valor nulo que aparece para retirar as linhas abaixo:\n",
        "indice_primeiro_nulo = data['VALOR'].index[data['VALOR'].isnull()].tolist()[0]\n",
        "indice_primeiro_nulo"
      ]
    },
    {
      "cell_type": "code",
      "execution_count": 22,
      "metadata": {
        "colab": {
          "base_uri": "https://localhost:8080/",
          "height": 424
        },
        "id": "lzunDfE-oRyQ",
        "outputId": "86ee1bfd-a02c-4156-dc9f-65ebc6ab231d"
      },
      "outputs": [
        {
          "data": {
            "text/html": [
              "<div>\n",
              "<style scoped>\n",
              "    .dataframe tbody tr th:only-of-type {\n",
              "        vertical-align: middle;\n",
              "    }\n",
              "\n",
              "    .dataframe tbody tr th {\n",
              "        vertical-align: top;\n",
              "    }\n",
              "\n",
              "    .dataframe thead th {\n",
              "        text-align: right;\n",
              "    }\n",
              "</style>\n",
              "<table border=\"1\" class=\"dataframe\">\n",
              "  <thead>\n",
              "    <tr style=\"text-align: right;\">\n",
              "      <th></th>\n",
              "      <th>CATEGORIA</th>\n",
              "      <th>FORMA DE PAGAMENTO</th>\n",
              "      <th>PARCELAS RESTANTES</th>\n",
              "      <th>VALOR</th>\n",
              "    </tr>\n",
              "  </thead>\n",
              "  <tbody>\n",
              "    <tr>\n",
              "      <th>0</th>\n",
              "      <td>PESSOAL</td>\n",
              "      <td>CARTÃO X</td>\n",
              "      <td>12</td>\n",
              "      <td>152.91</td>\n",
              "    </tr>\n",
              "    <tr>\n",
              "      <th>1</th>\n",
              "      <td>STREAMING</td>\n",
              "      <td>CARTÃO Y</td>\n",
              "      <td>12</td>\n",
              "      <td>55.90</td>\n",
              "    </tr>\n",
              "    <tr>\n",
              "      <th>2</th>\n",
              "      <td>STREAMING</td>\n",
              "      <td>CARTÃO Y</td>\n",
              "      <td>12</td>\n",
              "      <td>24.43</td>\n",
              "    </tr>\n",
              "    <tr>\n",
              "      <th>3</th>\n",
              "      <td>STREAMING</td>\n",
              "      <td>CARTÃO Y</td>\n",
              "      <td>12</td>\n",
              "      <td>9.00</td>\n",
              "    </tr>\n",
              "    <tr>\n",
              "      <th>4</th>\n",
              "      <td>PESSOAL</td>\n",
              "      <td>CARTÃO Y</td>\n",
              "      <td>12</td>\n",
              "      <td>0.00</td>\n",
              "    </tr>\n",
              "    <tr>\n",
              "      <th>...</th>\n",
              "      <td>...</td>\n",
              "      <td>...</td>\n",
              "      <td>...</td>\n",
              "      <td>...</td>\n",
              "    </tr>\n",
              "    <tr>\n",
              "      <th>64</th>\n",
              "      <td>LAZER</td>\n",
              "      <td>CARTÃO Y</td>\n",
              "      <td>1</td>\n",
              "      <td>24.97</td>\n",
              "    </tr>\n",
              "    <tr>\n",
              "      <th>65</th>\n",
              "      <td>LAZER</td>\n",
              "      <td>CARTÃO Y</td>\n",
              "      <td>1</td>\n",
              "      <td>21.99</td>\n",
              "    </tr>\n",
              "    <tr>\n",
              "      <th>66</th>\n",
              "      <td>LAZER</td>\n",
              "      <td>CARTÃO Y</td>\n",
              "      <td>1</td>\n",
              "      <td>39.00</td>\n",
              "    </tr>\n",
              "    <tr>\n",
              "      <th>67</th>\n",
              "      <td>LAZER</td>\n",
              "      <td>CARTÃO Y</td>\n",
              "      <td>1</td>\n",
              "      <td>17.99</td>\n",
              "    </tr>\n",
              "    <tr>\n",
              "      <th>68</th>\n",
              "      <td>COMBUSTÍVEL</td>\n",
              "      <td>CARTÃO Y</td>\n",
              "      <td>1</td>\n",
              "      <td>230.09</td>\n",
              "    </tr>\n",
              "  </tbody>\n",
              "</table>\n",
              "<p>69 rows × 4 columns</p>\n",
              "</div>"
            ],
            "text/plain": [
              "      CATEGORIA FORMA DE PAGAMENTO  PARCELAS RESTANTES   VALOR\n",
              "0       PESSOAL           CARTÃO X                  12  152.91\n",
              "1     STREAMING           CARTÃO Y                  12   55.90\n",
              "2     STREAMING           CARTÃO Y                  12   24.43\n",
              "3     STREAMING           CARTÃO Y                  12    9.00\n",
              "4       PESSOAL           CARTÃO Y                  12    0.00\n",
              "..          ...                ...                 ...     ...\n",
              "64        LAZER           CARTÃO Y                   1   24.97\n",
              "65        LAZER           CARTÃO Y                   1   21.99\n",
              "66        LAZER           CARTÃO Y                   1   39.00\n",
              "67        LAZER           CARTÃO Y                   1   17.99\n",
              "68  COMBUSTÍVEL           CARTÃO Y                   1  230.09\n",
              "\n",
              "[69 rows x 4 columns]"
            ]
          },
          "execution_count": 22,
          "metadata": {},
          "output_type": "execute_result"
        }
      ],
      "source": [
        "# Retirei as colunas DATA e DESCRIÇÃO e as linhas desnecessárias:\n",
        "data_clean=data.iloc[:indice_primeiro_nulo,2:6]\n",
        "data_clean"
      ]
    },
    {
      "cell_type": "markdown",
      "metadata": {
        "id": "v5TKYmzMoRyQ"
      },
      "source": [
        "## Criação de gráficos:"
      ]
    },
    {
      "cell_type": "code",
      "execution_count": 34,
      "metadata": {},
      "outputs": [
        {
          "data": {
            "text/html": [
              "<div>\n",
              "<style scoped>\n",
              "    .dataframe tbody tr th:only-of-type {\n",
              "        vertical-align: middle;\n",
              "    }\n",
              "\n",
              "    .dataframe tbody tr th {\n",
              "        vertical-align: top;\n",
              "    }\n",
              "\n",
              "    .dataframe thead th {\n",
              "        text-align: right;\n",
              "    }\n",
              "</style>\n",
              "<table border=\"1\" class=\"dataframe\">\n",
              "  <thead>\n",
              "    <tr style=\"text-align: right;\">\n",
              "      <th></th>\n",
              "      <th>CATEGORIA</th>\n",
              "      <th>FORMA DE PAGAMENTO</th>\n",
              "      <th>PARCELAS RESTANTES</th>\n",
              "      <th>VALOR</th>\n",
              "    </tr>\n",
              "  </thead>\n",
              "  <tbody>\n",
              "  </tbody>\n",
              "</table>\n",
              "</div>"
            ],
            "text/plain": [
              "Empty DataFrame\n",
              "Columns: [CATEGORIA, FORMA DE PAGAMENTO, PARCELAS RESTANTES, VALOR]\n",
              "Index: []"
            ]
          },
          "execution_count": 34,
          "metadata": {},
          "output_type": "execute_result"
        }
      ],
      "source": [
        "# Clonando o dataframe:\n",
        "df=data_clean.copy()\n",
        "df.head(0)"
      ]
    },
    {
      "cell_type": "code",
      "execution_count": 24,
      "metadata": {
        "colab": {
          "base_uri": "https://localhost:8080/",
          "height": 457
        },
        "id": "yvzeYe5dp4k9",
        "outputId": "6a6ac473-935d-4e6f-d87b-b165306f9bde"
      },
      "outputs": [
        {
          "data": {
            "text/html": [
              "<div>\n",
              "<style scoped>\n",
              "    .dataframe tbody tr th:only-of-type {\n",
              "        vertical-align: middle;\n",
              "    }\n",
              "\n",
              "    .dataframe tbody tr th {\n",
              "        vertical-align: top;\n",
              "    }\n",
              "\n",
              "    .dataframe thead th {\n",
              "        text-align: right;\n",
              "    }\n",
              "</style>\n",
              "<table border=\"1\" class=\"dataframe\">\n",
              "  <thead>\n",
              "    <tr style=\"text-align: right;\">\n",
              "      <th></th>\n",
              "      <th>CATEGORIA</th>\n",
              "      <th>VALOR</th>\n",
              "    </tr>\n",
              "  </thead>\n",
              "  <tbody>\n",
              "    <tr>\n",
              "      <th>0</th>\n",
              "      <td>BELEZA/SAÚDE</td>\n",
              "      <td>47.49</td>\n",
              "    </tr>\n",
              "    <tr>\n",
              "      <th>1</th>\n",
              "      <td>BIKE</td>\n",
              "      <td>42.24</td>\n",
              "    </tr>\n",
              "    <tr>\n",
              "      <th>2</th>\n",
              "      <td>CACHORRO</td>\n",
              "      <td>76.00</td>\n",
              "    </tr>\n",
              "    <tr>\n",
              "      <th>3</th>\n",
              "      <td>CASA</td>\n",
              "      <td>445.68</td>\n",
              "    </tr>\n",
              "    <tr>\n",
              "      <th>4</th>\n",
              "      <td>COMBUSTÍVEL</td>\n",
              "      <td>833.74</td>\n",
              "    </tr>\n",
              "    <tr>\n",
              "      <th>5</th>\n",
              "      <td>COMPRAS</td>\n",
              "      <td>566.73</td>\n",
              "    </tr>\n",
              "    <tr>\n",
              "      <th>6</th>\n",
              "      <td>LANCHES</td>\n",
              "      <td>275.22</td>\n",
              "    </tr>\n",
              "    <tr>\n",
              "      <th>7</th>\n",
              "      <td>LAZER</td>\n",
              "      <td>791.49</td>\n",
              "    </tr>\n",
              "    <tr>\n",
              "      <th>8</th>\n",
              "      <td>MERCADO</td>\n",
              "      <td>744.98</td>\n",
              "    </tr>\n",
              "    <tr>\n",
              "      <th>9</th>\n",
              "      <td>MILHAS</td>\n",
              "      <td>227.50</td>\n",
              "    </tr>\n",
              "    <tr>\n",
              "      <th>10</th>\n",
              "      <td>PADARIA</td>\n",
              "      <td>59.79</td>\n",
              "    </tr>\n",
              "    <tr>\n",
              "      <th>11</th>\n",
              "      <td>PESSOAL</td>\n",
              "      <td>959.68</td>\n",
              "    </tr>\n",
              "    <tr>\n",
              "      <th>12</th>\n",
              "      <td>STREAMING</td>\n",
              "      <td>108.96</td>\n",
              "    </tr>\n",
              "  </tbody>\n",
              "</table>\n",
              "</div>"
            ],
            "text/plain": [
              "       CATEGORIA   VALOR\n",
              "0   BELEZA/SAÚDE   47.49\n",
              "1           BIKE   42.24\n",
              "2       CACHORRO   76.00\n",
              "3           CASA  445.68\n",
              "4    COMBUSTÍVEL  833.74\n",
              "5        COMPRAS  566.73\n",
              "6        LANCHES  275.22\n",
              "7          LAZER  791.49\n",
              "8        MERCADO  744.98\n",
              "9         MILHAS  227.50\n",
              "10       PADARIA   59.79\n",
              "11       PESSOAL  959.68\n",
              "12     STREAMING  108.96"
            ]
          },
          "execution_count": 24,
          "metadata": {},
          "output_type": "execute_result"
        }
      ],
      "source": [
        "# Usando o método groupby para agrupar os dados por categoria e, em seguida, calculando a soma dos valores\n",
        "valor_categoria = df.groupby('CATEGORIA')['VALOR'].sum().reset_index()\n",
        "\n",
        "valor_categoria"
      ]
    },
    {
      "cell_type": "code",
      "execution_count": 25,
      "metadata": {
        "colab": {
          "base_uri": "https://localhost:8080/",
          "height": 739
        },
        "id": "aDzWA88Np9lx",
        "outputId": "7cca7880-e273-41ac-ac45-470552f56663"
      },
      "outputs": [
        {
          "data": {
            "image/png": "[encoded data removed]",
            "text/plain": [
              "<Figure size 1500x800 with 1 Axes>"
            ]
          },
          "metadata": {},
          "output_type": "display_data"
        }
      ],
      "source": [
        "plt.figure(figsize=(15, 8))  # Tamanho do gráfico\n",
        "sns.barplot(x='CATEGORIA', y='VALOR', data=valor_categoria)\n",
        "\n",
        "# Adicionando rótulos aos eixos e ao gráfico\n",
        "plt.xlabel('Categoria')\n",
        "plt.ylabel('Soma dos Valores')\n",
        "plt.title('Soma dos Valores por Categoria')\n",
        "\n",
        "# Apresentação do valor acima de cada coluna:\n",
        "for index, row in valor_categoria.iterrows():\n",
        "    plt.annotate(f'{row[\"VALOR\"]:.1f}', (index, row[\"VALOR\"]), ha='center', va='bottom')\n",
        "\n",
        "# Mostrando o gráfico\n",
        "plt.show()"
      ]
    },
    {
      "cell_type": "code",
      "execution_count": 26,
      "metadata": {},
      "outputs": [
        {
          "data": {
            "text/html": [
              "<div>\n",
              "<style scoped>\n",
              "    .dataframe tbody tr th:only-of-type {\n",
              "        vertical-align: middle;\n",
              "    }\n",
              "\n",
              "    .dataframe tbody tr th {\n",
              "        vertical-align: top;\n",
              "    }\n",
              "\n",
              "    .dataframe thead th {\n",
              "        text-align: right;\n",
              "    }\n",
              "</style>\n",
              "<table border=\"1\" class=\"dataframe\">\n",
              "  <thead>\n",
              "    <tr style=\"text-align: right;\">\n",
              "      <th></th>\n",
              "      <th>FORMA DE PAGAMENTO</th>\n",
              "      <th>VALOR</th>\n",
              "    </tr>\n",
              "  </thead>\n",
              "  <tbody>\n",
              "    <tr>\n",
              "      <th>0</th>\n",
              "      <td>CARTÃO W</td>\n",
              "      <td>60.00</td>\n",
              "    </tr>\n",
              "    <tr>\n",
              "      <th>1</th>\n",
              "      <td>CARTÃO X</td>\n",
              "      <td>2429.55</td>\n",
              "    </tr>\n",
              "    <tr>\n",
              "      <th>2</th>\n",
              "      <td>CARTÃO Y</td>\n",
              "      <td>2392.47</td>\n",
              "    </tr>\n",
              "    <tr>\n",
              "      <th>3</th>\n",
              "      <td>CARTÃO Z</td>\n",
              "      <td>297.48</td>\n",
              "    </tr>\n",
              "  </tbody>\n",
              "</table>\n",
              "</div>"
            ],
            "text/plain": [
              "  FORMA DE PAGAMENTO    VALOR\n",
              "0           CARTÃO W    60.00\n",
              "1           CARTÃO X  2429.55\n",
              "2           CARTÃO Y  2392.47\n",
              "3           CARTÃO Z   297.48"
            ]
          },
          "execution_count": 26,
          "metadata": {},
          "output_type": "execute_result"
        }
      ],
      "source": [
        "# Usando o método groupby para agrupar os dados por categoria e, em seguida, calculando a soma dos valores\n",
        "valor_formadepagamento = df.groupby('FORMA DE PAGAMENTO')['VALOR'].sum().reset_index()\n",
        "\n",
        "valor_formadepagamento"
      ]
    },
    {
      "cell_type": "code",
      "execution_count": 27,
      "metadata": {},
      "outputs": [
        {
          "data": {
            "image/png": "[encoded data removed]",
            "text/plain": [
              "<Figure size 1000x800 with 1 Axes>"
            ]
          },
          "metadata": {},
          "output_type": "display_data"
        }
      ],
      "source": [
        "plt.figure(figsize=(10, 8))  # Tamanho do gráfico\n",
        "sns.barplot(x='FORMA DE PAGAMENTO', y='VALOR', data= valor_formadepagamento)\n",
        "\n",
        "# Adicionando rótulos aos eixos e ao gráfico\n",
        "plt.xlabel('FORMA DE PAGAMENTO')\n",
        "plt.ylabel('Soma dos Valores(R$)')\n",
        "plt.title('Soma dos Valores por forma de pagamento')\n",
        "\n",
        "# Apresentação do valor acima de cada coluna:\n",
        "for index, row in valor_formadepagamento.iterrows():\n",
        "    plt.annotate(f'{row[\"VALOR\"]:.1f}', (index, row[\"VALOR\"]), ha='center', va='bottom')\n",
        "\n",
        "# Mostrando o gráfico\n",
        "plt.show()"
      ]
    },
    {
      "cell_type": "code",
      "execution_count": 28,
      "metadata": {},
      "outputs": [
        {
          "name": "stdout",
          "output_type": "stream",
          "text": [
            "Valor total devido: R$ 12398.53\n"
          ]
        }
      ],
      "source": [
        "# Valor total devido\n",
        "parcelas=df['PARCELAS RESTANTES']\n",
        "valor=df['VALOR']\n",
        "len(valor)\n",
        "for i in range(len(valor)):\n",
        "    df.loc[i,'somatorio']=parcelas[i]*valor[i]\n",
        "print('Valor total devido: R$ '+str(round(df['somatorio'].sum(),2)))\n"
      ]
    },
    {
      "cell_type": "code",
      "execution_count": 29,
      "metadata": {},
      "outputs": [
        {
          "data": {
            "text/html": [
              "<div>\n",
              "<style scoped>\n",
              "    .dataframe tbody tr th:only-of-type {\n",
              "        vertical-align: middle;\n",
              "    }\n",
              "\n",
              "    .dataframe tbody tr th {\n",
              "        vertical-align: top;\n",
              "    }\n",
              "\n",
              "    .dataframe thead th {\n",
              "        text-align: right;\n",
              "    }\n",
              "</style>\n",
              "<table border=\"1\" class=\"dataframe\">\n",
              "  <thead>\n",
              "    <tr style=\"text-align: right;\">\n",
              "      <th></th>\n",
              "      <th>CATEGORIA</th>\n",
              "      <th>FORMA DE PAGAMENTO</th>\n",
              "      <th>PARCELAS RESTANTES</th>\n",
              "      <th>VALOR</th>\n",
              "      <th>somatorio</th>\n",
              "      <th>cor</th>\n",
              "    </tr>\n",
              "  </thead>\n",
              "  <tbody>\n",
              "    <tr>\n",
              "      <th>0</th>\n",
              "      <td>PESSOAL</td>\n",
              "      <td>CARTÃO X</td>\n",
              "      <td>12</td>\n",
              "      <td>152.91</td>\n",
              "      <td>1834.92</td>\n",
              "      <td>BLUE</td>\n",
              "    </tr>\n",
              "    <tr>\n",
              "      <th>1</th>\n",
              "      <td>STREAMING</td>\n",
              "      <td>CARTÃO Y</td>\n",
              "      <td>12</td>\n",
              "      <td>55.90</td>\n",
              "      <td>670.80</td>\n",
              "      <td>GREEN</td>\n",
              "    </tr>\n",
              "    <tr>\n",
              "      <th>2</th>\n",
              "      <td>STREAMING</td>\n",
              "      <td>CARTÃO Y</td>\n",
              "      <td>12</td>\n",
              "      <td>24.43</td>\n",
              "      <td>293.16</td>\n",
              "      <td>GREEN</td>\n",
              "    </tr>\n",
              "    <tr>\n",
              "      <th>3</th>\n",
              "      <td>STREAMING</td>\n",
              "      <td>CARTÃO Y</td>\n",
              "      <td>12</td>\n",
              "      <td>9.00</td>\n",
              "      <td>108.00</td>\n",
              "      <td>GREEN</td>\n",
              "    </tr>\n",
              "    <tr>\n",
              "      <th>4</th>\n",
              "      <td>PESSOAL</td>\n",
              "      <td>CARTÃO Y</td>\n",
              "      <td>12</td>\n",
              "      <td>0.00</td>\n",
              "      <td>0.00</td>\n",
              "      <td>GREEN</td>\n",
              "    </tr>\n",
              "    <tr>\n",
              "      <th>...</th>\n",
              "      <td>...</td>\n",
              "      <td>...</td>\n",
              "      <td>...</td>\n",
              "      <td>...</td>\n",
              "      <td>...</td>\n",
              "      <td>...</td>\n",
              "    </tr>\n",
              "    <tr>\n",
              "      <th>64</th>\n",
              "      <td>LAZER</td>\n",
              "      <td>CARTÃO Y</td>\n",
              "      <td>1</td>\n",
              "      <td>24.97</td>\n",
              "      <td>24.97</td>\n",
              "      <td>GREEN</td>\n",
              "    </tr>\n",
              "    <tr>\n",
              "      <th>65</th>\n",
              "      <td>LAZER</td>\n",
              "      <td>CARTÃO Y</td>\n",
              "      <td>1</td>\n",
              "      <td>21.99</td>\n",
              "      <td>21.99</td>\n",
              "      <td>GREEN</td>\n",
              "    </tr>\n",
              "    <tr>\n",
              "      <th>66</th>\n",
              "      <td>LAZER</td>\n",
              "      <td>CARTÃO Y</td>\n",
              "      <td>1</td>\n",
              "      <td>39.00</td>\n",
              "      <td>39.00</td>\n",
              "      <td>GREEN</td>\n",
              "    </tr>\n",
              "    <tr>\n",
              "      <th>67</th>\n",
              "      <td>LAZER</td>\n",
              "      <td>CARTÃO Y</td>\n",
              "      <td>1</td>\n",
              "      <td>17.99</td>\n",
              "      <td>17.99</td>\n",
              "      <td>GREEN</td>\n",
              "    </tr>\n",
              "    <tr>\n",
              "      <th>68</th>\n",
              "      <td>COMBUSTÍVEL</td>\n",
              "      <td>CARTÃO Y</td>\n",
              "      <td>1</td>\n",
              "      <td>230.09</td>\n",
              "      <td>230.09</td>\n",
              "      <td>GREEN</td>\n",
              "    </tr>\n",
              "  </tbody>\n",
              "</table>\n",
              "<p>69 rows × 6 columns</p>\n",
              "</div>"
            ],
            "text/plain": [
              "      CATEGORIA FORMA DE PAGAMENTO  PARCELAS RESTANTES   VALOR  somatorio   \n",
              "0       PESSOAL           CARTÃO X                  12  152.91    1834.92  \\\n",
              "1     STREAMING           CARTÃO Y                  12   55.90     670.80   \n",
              "2     STREAMING           CARTÃO Y                  12   24.43     293.16   \n",
              "3     STREAMING           CARTÃO Y                  12    9.00     108.00   \n",
              "4       PESSOAL           CARTÃO Y                  12    0.00       0.00   \n",
              "..          ...                ...                 ...     ...        ...   \n",
              "64        LAZER           CARTÃO Y                   1   24.97      24.97   \n",
              "65        LAZER           CARTÃO Y                   1   21.99      21.99   \n",
              "66        LAZER           CARTÃO Y                   1   39.00      39.00   \n",
              "67        LAZER           CARTÃO Y                   1   17.99      17.99   \n",
              "68  COMBUSTÍVEL           CARTÃO Y                   1  230.09     230.09   \n",
              "\n",
              "      cor  \n",
              "0    BLUE  \n",
              "1   GREEN  \n",
              "2   GREEN  \n",
              "3   GREEN  \n",
              "4   GREEN  \n",
              "..    ...  \n",
              "64  GREEN  \n",
              "65  GREEN  \n",
              "66  GREEN  \n",
              "67  GREEN  \n",
              "68  GREEN  \n",
              "\n",
              "[69 rows x 6 columns]"
            ]
          },
          "execution_count": 29,
          "metadata": {},
          "output_type": "execute_result"
        }
      ],
      "source": [
        "cores={'CARTÃO X' : 'BLUE','CARTÃO Y' : 'GREEN','CARTÃO Z' : 'BLACK','CARTÃO W' : 'RED' }\n",
        "df['cor']=df['FORMA DE PAGAMENTO'].map(cores)\n",
        "df"
      ]
    },
    {
      "cell_type": "code",
      "execution_count": 30,
      "metadata": {},
      "outputs": [
        {
          "data": {
            "image/png": "[encoded data removed]",
            "text/plain": [
              "<Figure size 640x480 with 1 Axes>"
            ]
          },
          "metadata": {},
          "output_type": "display_data"
        }
      ],
      "source": [
        "plt.scatter(parcelas, valor, c=df['cor'])\n",
        "plt.title('Parcelas x Valor')\n",
        "plt.xlabel('Parcelas')\n",
        "plt.ylabel('Valor')\n",
        "# Adicione a legenda ao gráfico automaticamente usando as cores e rótulos do DataFrame\n",
        "legend_labels = df[['FORMA DE PAGAMENTO', 'cor']].drop_duplicates()\n",
        "plt.legend(handles=[plt.Line2D([0], [0], marker='o', color='w', label=row['FORMA DE PAGAMENTO'],markerfacecolor=row['cor'], markersize=10)for _, row in legend_labels.iterrows()],title='Forma de Pagamento')\n",
        "plt.show()"
      ]
    },
    {
      "cell_type": "code",
      "execution_count": 31,
      "metadata": {},
      "outputs": [
        {
          "data": {
            "text/html": [
              "<div>\n",
              "<style scoped>\n",
              "    .dataframe tbody tr th:only-of-type {\n",
              "        vertical-align: middle;\n",
              "    }\n",
              "\n",
              "    .dataframe tbody tr th {\n",
              "        vertical-align: top;\n",
              "    }\n",
              "\n",
              "    .dataframe thead th {\n",
              "        text-align: right;\n",
              "    }\n",
              "</style>\n",
              "<table border=\"1\" class=\"dataframe\">\n",
              "  <thead>\n",
              "    <tr style=\"text-align: right;\">\n",
              "      <th></th>\n",
              "      <th>FORMA DE PAGAMENTO</th>\n",
              "      <th>somatorio</th>\n",
              "    </tr>\n",
              "  </thead>\n",
              "  <tbody>\n",
              "    <tr>\n",
              "      <th>0</th>\n",
              "      <td>CARTÃO W</td>\n",
              "      <td>720.00</td>\n",
              "    </tr>\n",
              "    <tr>\n",
              "      <th>1</th>\n",
              "      <td>CARTÃO X</td>\n",
              "      <td>7662.90</td>\n",
              "    </tr>\n",
              "    <tr>\n",
              "      <th>2</th>\n",
              "      <td>CARTÃO Y</td>\n",
              "      <td>3665.66</td>\n",
              "    </tr>\n",
              "    <tr>\n",
              "      <th>3</th>\n",
              "      <td>CARTÃO Z</td>\n",
              "      <td>349.97</td>\n",
              "    </tr>\n",
              "  </tbody>\n",
              "</table>\n",
              "</div>"
            ],
            "text/plain": [
              "  FORMA DE PAGAMENTO  somatorio\n",
              "0           CARTÃO W     720.00\n",
              "1           CARTÃO X    7662.90\n",
              "2           CARTÃO Y    3665.66\n",
              "3           CARTÃO Z     349.97"
            ]
          },
          "execution_count": 31,
          "metadata": {},
          "output_type": "execute_result"
        }
      ],
      "source": [
        "# Usando o método groupby para agrupar os dados por categoria e, em seguida, calculando a soma dos valores\n",
        "total_formadepag = df.groupby('FORMA DE PAGAMENTO')['somatorio'].sum().reset_index()\n",
        "\n",
        "total_formadepag"
      ]
    },
    {
      "cell_type": "code",
      "execution_count": 32,
      "metadata": {},
      "outputs": [
        {
          "data": {
            "image/png": "[encoded data removed]",
            "text/plain": [
              "<Figure size 1000x800 with 1 Axes>"
            ]
          },
          "metadata": {},
          "output_type": "display_data"
        }
      ],
      "source": [
        "plt.figure(figsize=(10, 8))  # Tamanho do gráfico\n",
        "sns.barplot(x='FORMA DE PAGAMENTO', y='somatorio', data= total_formadepag)\n",
        "\n",
        "# Adicionando rótulos aos eixos e ao gráfico\n",
        "plt.xlabel('FORMA DE PAGAMENTO')\n",
        "plt.ylabel('Soma dos Valores(R$)')\n",
        "plt.title('Soma dos Valores por forma de pagamento')\n",
        "\n",
        "# Apresentação do valor acima de cada coluna:\n",
        "for index, row in total_formadepag.iterrows():\n",
        "    plt.annotate(f'{row[\"somatorio\"]:.1f}', (index, row[\"somatorio\"]), ha='center', va='bottom')\n",
        "\n",
        "# Mostrando o gráfico\n",
        "plt.show()"
      ]
    },
    {
      "cell_type": "code",
      "execution_count": 33,
      "metadata": {},
      "outputs": [
        {
          "data": {
            "text/html": [
              "<div>\n",
              "<style scoped>\n",
              "    .dataframe tbody tr th:only-of-type {\n",
              "        vertical-align: middle;\n",
              "    }\n",
              "\n",
              "    .dataframe tbody tr th {\n",
              "        vertical-align: top;\n",
              "    }\n",
              "\n",
              "    .dataframe thead th {\n",
              "        text-align: right;\n",
              "    }\n",
              "</style>\n",
              "<table border=\"1\" class=\"dataframe\">\n",
              "  <thead>\n",
              "    <tr style=\"text-align: right;\">\n",
              "      <th></th>\n",
              "      <th>CATEGORIA</th>\n",
              "      <th>FORMA DE PAGAMENTO</th>\n",
              "      <th>PARCELAS RESTANTES</th>\n",
              "      <th>VALOR</th>\n",
              "    </tr>\n",
              "  </thead>\n",
              "  <tbody>\n",
              "    <tr>\n",
              "      <th>0</th>\n",
              "      <td>PESSOAL</td>\n",
              "      <td>CARTÃO X</td>\n",
              "      <td>12</td>\n",
              "      <td>152.91</td>\n",
              "    </tr>\n",
              "    <tr>\n",
              "      <th>1</th>\n",
              "      <td>STREAMING</td>\n",
              "      <td>CARTÃO Y</td>\n",
              "      <td>12</td>\n",
              "      <td>55.90</td>\n",
              "    </tr>\n",
              "    <tr>\n",
              "      <th>2</th>\n",
              "      <td>STREAMING</td>\n",
              "      <td>CARTÃO Y</td>\n",
              "      <td>12</td>\n",
              "      <td>24.43</td>\n",
              "    </tr>\n",
              "    <tr>\n",
              "      <th>3</th>\n",
              "      <td>STREAMING</td>\n",
              "      <td>CARTÃO Y</td>\n",
              "      <td>12</td>\n",
              "      <td>9.00</td>\n",
              "    </tr>\n",
              "    <tr>\n",
              "      <th>4</th>\n",
              "      <td>PESSOAL</td>\n",
              "      <td>CARTÃO Y</td>\n",
              "      <td>12</td>\n",
              "      <td>0.00</td>\n",
              "    </tr>\n",
              "    <tr>\n",
              "      <th>...</th>\n",
              "      <td>...</td>\n",
              "      <td>...</td>\n",
              "      <td>...</td>\n",
              "      <td>...</td>\n",
              "    </tr>\n",
              "    <tr>\n",
              "      <th>64</th>\n",
              "      <td>LAZER</td>\n",
              "      <td>CARTÃO Y</td>\n",
              "      <td>1</td>\n",
              "      <td>24.97</td>\n",
              "    </tr>\n",
              "    <tr>\n",
              "      <th>65</th>\n",
              "      <td>LAZER</td>\n",
              "      <td>CARTÃO Y</td>\n",
              "      <td>1</td>\n",
              "      <td>21.99</td>\n",
              "    </tr>\n",
              "    <tr>\n",
              "      <th>66</th>\n",
              "      <td>LAZER</td>\n",
              "      <td>CARTÃO Y</td>\n",
              "      <td>1</td>\n",
              "      <td>39.00</td>\n",
              "    </tr>\n",
              "    <tr>\n",
              "      <th>67</th>\n",
              "      <td>LAZER</td>\n",
              "      <td>CARTÃO Y</td>\n",
              "      <td>1</td>\n",
              "      <td>17.99</td>\n",
              "    </tr>\n",
              "    <tr>\n",
              "      <th>68</th>\n",
              "      <td>COMBUSTÍVEL</td>\n",
              "      <td>CARTÃO Y</td>\n",
              "      <td>1</td>\n",
              "      <td>230.09</td>\n",
              "    </tr>\n",
              "  </tbody>\n",
              "</table>\n",
              "<p>69 rows × 4 columns</p>\n",
              "</div>"
            ],
            "text/plain": [
              "      CATEGORIA FORMA DE PAGAMENTO  PARCELAS RESTANTES   VALOR\n",
              "0       PESSOAL           CARTÃO X                  12  152.91\n",
              "1     STREAMING           CARTÃO Y                  12   55.90\n",
              "2     STREAMING           CARTÃO Y                  12   24.43\n",
              "3     STREAMING           CARTÃO Y                  12    9.00\n",
              "4       PESSOAL           CARTÃO Y                  12    0.00\n",
              "..          ...                ...                 ...     ...\n",
              "64        LAZER           CARTÃO Y                   1   24.97\n",
              "65        LAZER           CARTÃO Y                   1   21.99\n",
              "66        LAZER           CARTÃO Y                   1   39.00\n",
              "67        LAZER           CARTÃO Y                   1   17.99\n",
              "68  COMBUSTÍVEL           CARTÃO Y                   1  230.09\n",
              "\n",
              "[69 rows x 4 columns]"
            ]
          },
          "execution_count": 33,
          "metadata": {},
          "output_type": "execute_result"
        }
      ],
      "source": [
        "data_clean"
      ]
    },
    {
      "cell_type": "code",
      "execution_count": 36,
      "metadata": {},
      "outputs": [],
      "source": [
        "data_clean.to_excel('data/Gastos Set.xlsx', index = False, engine='openpyxl')"
      ]
    }
  ],
  "metadata": {
    "colab": {
      "provenance": []
    },
    "kernelspec": {
      "display_name": "Python 3",
      "language": "python",
      "name": "python3"
    },
    "language_info": {
      "codemirror_mode": {
        "name": "ipython",
        "version": 3
      },
      "file_extension": ".py",
      "mimetype": "text/x-python",
      "name": "python",
      "nbconvert_exporter": "python",
      "pygments_lexer": "ipython3",
      "version": "3.11.4"
    },
    "orig_nbformat": 4
  },
  "nbformat": 4,
  "nbformat_minor": 0
}
